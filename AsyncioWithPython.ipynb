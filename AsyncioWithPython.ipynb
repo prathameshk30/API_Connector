{
 "cells": [
  {
   "cell_type": "code",
   "execution_count": null,
   "metadata": {
    "vscode": {
     "languageId": "plaintext"
    }
   },
   "outputs": [],
   "source": [
    "class AsyncRestApiGet:\n",
    "\n",
    "    def __init__(self, number_concurrent_requests, BASE_URL, HEADERS, list_extension_id):\n",
    "        self.number_concurrent_requests = number_concurrent_requests\n",
    "        self.BASE_URL = BASE_URL\n",
    "        self.HEADERS = HEADERS\n",
    "        self.list_extension_id = list_extension_id\n",
    "\n",
    "    # Asynchronous function to fetch data from Fleetio API\n",
    "    async def fetch_data(self, session, url):\n",
    "        SEMAPHORE = asyncio.Semaphore(self.number_concurrent_requests)\n",
    "        async with SEMAPHORE:  # Limit concurrent requests\n",
    "            try:\n",
    "                async with session.get(url, headers=self.HEADERS or {}) as response:\n",
    "                    if response.status == 200:\n",
    "                        return await response.json()\n",
    "                    else:\n",
    "                        error_message = await response.text()\n",
    "                        print(f\"Error {response.status} for {url}: {error_message}\")\n",
    "                        return None\n",
    "            except Exception as e:\n",
    "                print(f\" Request failed for {url}: {e}\")\n",
    "                return None\n",
    "\n",
    "    # Asynchronous main function to fetch data for all IDs\n",
    "    async def main(self):\n",
    "        \n",
    "        urls = [self.BASE_URL+f\"{form_id}\" for form_id in self.list_extension_id]\n",
    "\n",
    "        async with aiohttp.ClientSession() as session:\n",
    "            tasks = [self.fetch_data(session, url) for url in urls]\n",
    "            results = await asyncio.gather(*tasks)\n",
    "        if results is not None:\n",
    "            print(f\"Fetched Data for {self.BASE_URL}\")\n",
    "        return results\n",
    "    \n",
    "    # run main fucntion\n",
    "    def get_data(self):\n",
    "        loop = asyncio.get_event_loop()\n",
    "        data= loop.run_until_complete(self.main())\n",
    "        return data"
   ]
  },
  {
   "cell_type": "code",
   "execution_count": null,
   "metadata": {
    "vscode": {
     "languageId": "plaintext"
    }
   },
   "outputs": [],
   "source": [
    "async_api_data= AsyncRestApiGet(\n",
    "   number_concurrent_requests=5, \n",
    "   BASE_URL= f\"https://orangegamesapi/api/v1/submitted_forms/\", \n",
    "   HEADERS=HEADERS, list_extension_id= [\"69033893\", \"69033882\", \"69033863\"]\n",
    ")\n",
    "\n",
    "dump= async_api_data.get_data()\n",
    "dump"
   ]
  },
  {
   "cell_type": "code",
   "execution_count": null,
   "metadata": {
    "vscode": {
     "languageId": "plaintext"
    }
   },
   "outputs": [],
   "source": []
  }
 ],
 "metadata": {
  "language_info": {
   "name": "python"
  }
 },
 "nbformat": 4,
 "nbformat_minor": 2
}
