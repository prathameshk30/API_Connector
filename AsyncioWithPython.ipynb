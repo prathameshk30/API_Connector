{
 "cells": [
  {
   "cell_type": "code",
   "execution_count": null,
   "metadata": {
    "vscode": {
     "languageId": "plaintext"
    }
   },
   "outputs": [],
   "source": [
    "import asyncio\n",
    "import aiohttp\n",
    "\n",
    "BASE_URL = \"https://example.com/api/resource/\"  # Base API URL\n",
    "EXTENSION_IDS = [\"12345\", \"67890\", \"abcde\", \"fghij\"]  # Example extension IDs\n",
    "HEADERS = {\n",
    "    'Accept': 'application/json',\n",
    "    'Authorization': 'Bearer YOUR_API_KEY'  # Replace with a real token\n",
    "}\n",
    "\n",
    "SEMAPHORE = asyncio.Semaphore(5)  # Limit concurrent requests to 5\n",
    "\n",
    "async def fetch_data(session, extension_id):\n",
    "    \"\"\"Fetch data asynchronously for a given extension ID.\"\"\"\n",
    "    url = f\"{BASE_URL}{extension_id}\"  # Append extension ID to URL\n",
    "    async with SEMAPHORE:  # Limit concurrent requests\n",
    "        try:\n",
    "            async with session.get(url, headers=HEADERS) as response:\n",
    "                if response.status == 200:\n",
    "                    data = await response.json()\n",
    "                    print(f\"Success: {extension_id}\")\n",
    "                    return data\n",
    "                else:\n",
    "                    print(f\"Error {response.status} for {extension_id}\")\n",
    "                    return None\n",
    "        except Exception as e:\n",
    "            print(f\"Request failed for {extension_id}: {e}\")\n",
    "            return None\n",
    "\n",
    "async def main():\n",
    "    async with aiohttp.ClientSession() as session:\n",
    "        tasks = [fetch_data(session, ext_id) for ext_id in EXTENSION_IDS]\n",
    "        results = await asyncio.gather(*tasks)  # Fetch all URLs concurrently\n",
    "    print(\"Fetched Data:\", results)\n",
    "    return results\n",
    "\n",
    "# Run the event loop\n",
    "data = asyncio.run(main())  # Use asyncio.run() outside Jupyter"
   ]
  }
 ],
 "metadata": {
  "language_info": {
   "name": "python"
  }
 },
 "nbformat": 4,
 "nbformat_minor": 2
}
