{
  "cells": [
    {
      "cell_type": "code",
      "source": [
        "# ! pip install Office365-REST-Python-Client"
      ],
      "outputs": [],
      "execution_count": null,
      "metadata": {
        "jupyter": {
          "source_hidden": false,
          "outputs_hidden": false
        },
        "nteract": {
          "transient": {
            "deleting": false
          }
        }
      }
    },
    {
      "cell_type": "code",
      "source": [
        "# ! pip install azure-storage-file-datalake"
      ],
      "outputs": [],
      "execution_count": null,
      "metadata": {
        "jupyter": {
          "source_hidden": false,
          "outputs_hidden": false
        },
        "nteract": {
          "transient": {
            "deleting": false
          }
        }
      }
    },
    {
      "cell_type": "code",
      "source": [
        "from office365.runtime.auth.authentication_context import AuthenticationContext\r\n",
        "from office365.sharepoint.client_context import ClientContext\r\n",
        "from office365.sharepoint.files.file import File\r\n",
        "from azure.storage.filedatalake import DataLakeServiceClient\r\n",
        "import pandas as pd"
      ],
      "outputs": [],
      "execution_count": null,
      "metadata": {
        "jupyter": {
          "source_hidden": false,
          "outputs_hidden": false
        },
        "nteract": {
          "transient": {
            "deleting": false
          }
        }
      }
    },
    {
      "cell_type": "code",
      "source": [
        "class SharepointToAzureBlobConnector:\r\n",
        "\r\n",
        "    def __init__(self, username, password, subdomain, site_name, azure_account_name, azure_access_key, container_name):\r\n",
        "        self.username = username\r\n",
        "        self.password = password\r\n",
        "        self.url = f\"https://{subdomain}.sharepoint.com\"\r\n",
        "        self.site = f\"https://{subdomain}.sharepoint.com/sites/{site_name}/\"\r\n",
        "        self.azure_storage_account_name = azure_account_name\r\n",
        "        self.azure_storage_access_key = azure_access_key\r\n",
        "        self.container_name = container_name\r\n",
        "\r\n",
        "    def create_sharepoint_authentication(self):\r\n",
        "        ctx_auth = AuthenticationContext(self.site)\r\n",
        "        try:\r\n",
        "            if ctx_auth.acquire_token_for_user(self.username, self.password):\r\n",
        "                CTX = ClientContext(self.site, ctx_auth)\r\n",
        "                web = CTX.web\r\n",
        "                CTX.load(web)\r\n",
        "                CTX.execute_query()\r\n",
        "                print('Authenticated into SharePoint as:', web.properties['Title'])\r\n",
        "                return CTX\r\n",
        "            else:\r\n",
        "                print(\"Failed to authenticate.\")\r\n",
        "        except Exception as e:\r\n",
        "            print(f\"Error during SharePoint authentication:\\n{e}\\n{ctx_auth.get_last_error()}\")\r\n",
        "\r\n",
        "    def sharepoint_folder_details(self, folder_in_sharepoint):\r\n",
        "        try:\r\n",
        "            folder_names = []\r\n",
        "            CTX = self.create_sharepoint_authentication()\r\n",
        "            folder = CTX.web.get_folder_by_server_relative_url(folder_in_sharepoint)\r\n",
        "            sub_folders = folder.files\r\n",
        "            CTX.load(sub_folders)\r\n",
        "            CTX.execute_query()\r\n",
        "            for s_folder in sub_folders:\r\n",
        "                folder_names.append(s_folder.properties[\"Name\"])\r\n",
        "            print(f\"Folder details:\\n{folder_names}\")\r\n",
        "            return folder_names\r\n",
        "        except Exception as e:\r\n",
        "            print(f\"Error retrieving folder details:\\n{e}\")\r\n",
        "\r\n",
        "    def create_azure_datalake_authentication(self):\r\n",
        "        try:\r\n",
        "            # Initialize the DataLakeServiceClient\r\n",
        "            service_client = DataLakeServiceClient(\r\n",
        "                account_url=f\"https://{self.azure_storage_account_name}.dfs.core.windows.net\",\r\n",
        "                credential=self.azure_storage_access_key\r\n",
        "            )\r\n",
        "            print(\"Azure Data Lake Service Client authenticated successfully.\")\r\n",
        "            return service_client\r\n",
        "        except Exception as e:\r\n",
        "            print(f\"Error during Azure Data Lake authentication:\\n{e}\")\r\n",
        "\r\n",
        "    def load_sharepoint_file_to_azure_blob(self, file_name: str, directory_name: str):\r\n",
        "        try:\r\n",
        "            # Load SharePoint file\r\n",
        "            CTX = self.create_sharepoint_authentication()\r\n",
        "            file_response = File.open_binary(CTX, file_name)\r\n",
        "\r\n",
        "            # Authenticate Data Lake service client\r\n",
        "            service_client = self.create_azure_datalake_authentication()\r\n",
        "\r\n",
        "            # Create or get the file system client\r\n",
        "            file_system_client = service_client.get_file_system_client(file_system=self.container_name)\r\n",
        "\r\n",
        "            # Create or get the directory client\r\n",
        "            directory_client = file_system_client.get_directory_client(directory_name)\r\n",
        "\r\n",
        "            # Create the file client in the specified directory\r\n",
        "            file_client = directory_client.create_file(file_name)\r\n",
        "\r\n",
        "            # Upload the content\r\n",
        "            file_content = file_response.content\r\n",
        "            file_client.append_data(data=file_content, offset=0, length=len(file_content))\r\n",
        "            file_client.flush_data(len(file_content))\r\n",
        "\r\n",
        "            print(\"File successfully uploaded to Azure Data Lake Storage.\")\r\n",
        "        except Exception as e:\r\n",
        "            print(f\"Error during file upload:\\n{e}\")"
      ],
      "outputs": [],
      "execution_count": null,
      "metadata": {}
    }
  ],
  "metadata": {
    "kernelspec": {
      "name": "synapse_pyspark",
      "display_name": "python"
    },
    "language_info": {
      "name": "python"
    },
    "save_output": true,
    "synapse_widget": {
      "version": "0.1",
      "state": {}
    }
  },
  "nbformat": 4,
  "nbformat_minor": 2
}