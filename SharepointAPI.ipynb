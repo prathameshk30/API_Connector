{
  "cells": [
    {
      "cell_type": "code",
      "execution_count": null,
      "metadata": {
        "jupyter": {
          "outputs_hidden": false,
          "source_hidden": false
        },
        "nteract": {
          "transient": {
            "deleting": false
          }
        }
      },
      "outputs": [],
      "source": [
        "# ! pip install Office365-REST-Python-Client"
      ]
    },
    {
      "cell_type": "code",
      "execution_count": null,
      "metadata": {
        "jupyter": {
          "outputs_hidden": false,
          "source_hidden": false
        },
        "nteract": {
          "transient": {
            "deleting": false
          }
        }
      },
      "outputs": [],
      "source": [
        "# ! pip install azure-storage-file-datalake"
      ]
    },
    {
      "cell_type": "code",
      "execution_count": null,
      "metadata": {
        "jupyter": {
          "outputs_hidden": false,
          "source_hidden": false
        },
        "nteract": {
          "transient": {
            "deleting": false
          }
        }
      },
      "outputs": [],
      "source": [
        "from office365.runtime.auth.authentication_context import AuthenticationContext\n",
        "from office365.sharepoint.client_context import ClientContext\n",
        "from office365.sharepoint.files.file import File\n",
        "from azure.storage.filedatalake import DataLakeServiceClient\n",
        "import pandas as pd"
      ]
    },
    {
      "cell_type": "code",
      "execution_count": null,
      "metadata": {},
      "outputs": [],
      "source": [
        "class SharepointToAzureBlobConnector:\n",
        "\n",
        "    def __init__(self, username, password, sharepoint_subdomain, sharepoint_site_name, azure_account_name, azure_access_key, container_name):\n",
        "        self.username = username\n",
        "        self.password = password\n",
        "        self.sharepoint_site_name= sharepoint_site_name\n",
        "        self.url = f\"https://{sharepoint_subdomain}.sharepoint.com\"\n",
        "        self.site = f\"https://{sharepoint_subdomain}.sharepoint.com/sites/{self.sharepoint_site_name}/\"\n",
        "        self.azure_storage_account_name = azure_account_name\n",
        "        self.azure_storage_access_key = azure_access_key\n",
        "        self.container_name = container_name\n",
        "\n",
        "    def create_sharepoint_authentication(self):\n",
        "        ctx_auth = AuthenticationContext(self.site)\n",
        "        try:\n",
        "            if ctx_auth.acquire_token_for_user(self.username, self.password):\n",
        "                CTX = ClientContext(self.site, ctx_auth)\n",
        "                web = CTX.web\n",
        "                CTX.load(web)\n",
        "                CTX.execute_query()\n",
        "                print('Authenticated into SharePoint as:', web.properties['Title'])\n",
        "                return CTX\n",
        "            else:\n",
        "                print(\"Failed to authenticate.\")\n",
        "        except Exception as e:\n",
        "            print(f\"Error during SharePoint authentication:\\n{e}\\n{ctx_auth.get_last_error()}\")\n",
        "\n",
        "    def sharepoint_folder_details(self, folder_in_sharepoint):\n",
        "        try:\n",
        "            folder_names = []\n",
        "            CTX = self.create_sharepoint_authentication()\n",
        "            folder = CTX.web.get_folder_by_server_relative_url(folder_in_sharepoint)\n",
        "            sub_folders = folder.files\n",
        "            CTX.load(sub_folders)\n",
        "            CTX.execute_query()\n",
        "            for s_folder in sub_folders:\n",
        "                folder_names.append(s_folder.properties[\"Name\"])\n",
        "            print(f\"Folder details:\\n{folder_names}\")\n",
        "        except Exception as e:\n",
        "            print(f\"Error retrieving folder details:\\n{e}\")\n",
        "\n",
        "    def create_azure_datalake_authentication(self):\n",
        "        try:\n",
        "            # Initialize the DataLakeServiceClient\n",
        "            service_client = DataLakeServiceClient(\n",
        "                account_url=f\"https://{self.azure_storage_account_name}.dfs.core.windows.net\",\n",
        "                credential=self.azure_storage_access_key\n",
        "            )\n",
        "            print(\"Azure Data Lake Service Client authenticated successfully.\")\n",
        "            return service_client\n",
        "        except Exception as e:\n",
        "            print(f\"Error during Azure Data Lake authentication:\\n{e}\")\n",
        "\n",
        "    def load_sharepoint_file_to_azure_blob(self, sharepoint_file_path: str, azure_directory_name: str):\n",
        "        try:\n",
        "            # Create file parameters\n",
        "            file_path =    f\"/sites/{self.sharepoint_site_name}/{sharepoint_file_path}\"\n",
        "            file_name=     file_path.split(\"/\")[-1]\n",
        "            print(f\"\\nfile_path:\\n{file_path}\")\n",
        "            print(f\"file_name:\\n{file_name}\\n\")\n",
        "\n",
        "            # Load SharePoint file\n",
        "            CTX = self.create_sharepoint_authentication()\n",
        "            file_response = File.open_binary(CTX, file_path)\n",
        "\n",
        "            if file_response.status_code == 200:\n",
        "                print(\"Status: 200,\\nRequest to sharepoint was successfull!\\n\")\n",
        "            else:\n",
        "                print(f\"Status: {file_response.status_code}, Request failed to sharepoint\\n\")\n",
        "\n",
        "            # Authenticate Data Lake service client\n",
        "            service_client = self.create_azure_datalake_authentication()\n",
        "\n",
        "            # Create or get the file system client\n",
        "            file_system_client = service_client.get_file_system_client(file_system=self.container_name)\n",
        "\n",
        "            # Create or get the directory client\n",
        "            directory_client = file_system_client.get_directory_client(azure_directory_name)\n",
        "\n",
        "            # Create the file client in the specified directory\n",
        "            file_client = directory_client.create_file(file_name)\n",
        "\n",
        "            # Upload the content\n",
        "            file_content = file_response.content\n",
        "            file_client.append_data(data=file_content, offset=0, length=len(file_content))\n",
        "            file_client.flush_data(len(file_content))\n",
        "\n",
        "            print(\"File successfully uploaded to Azure Data Lake Storage!\")\n",
        "        except Exception as e:\n",
        "            print(f\"Error during file upload:\\n{e}\")"
      ]
    },
    {
      "cell_type": "code",
      "execution_count": null,
      "metadata": {},
      "outputs": [],
      "source": [
        "# initiate the class & pass parameters\n",
        "SharepointToAzureConnectorClass= SharepointToAzureBlobConnector(username= xxxxxx, \n",
        "                                                                password= xxxxxx, \n",
        "                                                                sharepoint_subdomain=xxxxxx, \n",
        "                                                                sharepoint_site_name=xxxxxx, \n",
        "                                                                azure_account_name=\"adlsbauapp_xxxx\", \n",
        "                                                                azure_access_key=xxxxxx, \n",
        "                                                                container_name=\"bronze\")\n",
        "\n",
        "# Get File Name \n",
        "SharepointToAzureConnectorClass.sharepoint_folder_details(folder_in_sharepoint=\"Shared Documents/AzureBlobStorageConnection\")\n",
        "\n",
        "# Load file from sharepoint to Azure blob\n",
        "SharepointToAzureConnectorClass.load_sharepoint_file_to_azure_blob(sharepoint_file_path= \"Shared Documents/AzureBlobStorageConnection/Fleet Mgmt Master Mapping Wkst.xlsx\", \n",
        "                                                                   azure_directory_name= \"sharepoint\")"
      ]
    }
  ],
  "metadata": {
    "kernelspec": {
      "display_name": "python",
      "name": "synapse_pyspark"
    },
    "language_info": {
      "name": "python"
    },
    "save_output": true,
    "synapse_widget": {
      "state": {},
      "version": "0.1"
    }
  },
  "nbformat": 4,
  "nbformat_minor": 2
}
